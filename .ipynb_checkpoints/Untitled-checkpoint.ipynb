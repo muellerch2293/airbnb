{
 "cells": [
  {
   "cell_type": "code",
   "execution_count": 1,
   "id": "51dfbe5f-5760-44a6-8a1a-12674fa27b6d",
   "metadata": {},
   "outputs": [],
   "source": [
    "#Importing Libraries\n",
    "import numpy as np\n",
    "import pandas as pd\n",
    "import matplotlib.pyplot as plt\n",
    "%matplotlib inline\n",
    "import seaborn as sns\n",
    "from sklearn.model_selection import train_test_split \n",
    "from sklearn.metrics import r2_score, mean_squared_error\n",
    "from sklearn.linear_model import LinearRegression\n",
    "from sklearn.ensemble import RandomForestRegressor\n",
    "import json\n",
    "from pathlib import Path  "
   ]
  },
  {
   "cell_type": "code",
   "execution_count": 2,
   "id": "42f8eb03-d708-434a-9366-19a63725b590",
   "metadata": {},
   "outputs": [],
   "source": [
    "#Reading Data\n",
    "df_listings = pd.read_csv('data/listings.csv')\n",
    "df_calendar = pd.read_csv('data/calendar.csv')\n",
    "df_reviews = pd.read_csv('data/reviews.csv')"
   ]
  },
  {
   "cell_type": "code",
   "execution_count": 3,
   "id": "4c7307da-f00e-4a9b-a76b-9af84b7b0b61",
   "metadata": {},
   "outputs": [
    {
     "name": "stdout",
     "output_type": "stream",
     "text": [
      "There are 3818 listings in the listings.csv\n"
     ]
    }
   ],
   "source": [
    "print(\"There are %s listings in the listings.csv\" % df_listings.shape[0])"
   ]
  },
  {
   "cell_type": "code",
   "execution_count": 4,
   "id": "68e50be2-9b1a-4584-b5a4-9a548e5c2cfa",
   "metadata": {},
   "outputs": [],
   "source": [
    "def remove_dollar_sign(x):\n",
    "    if (type(x) == str):\n",
    "        x = x.replace('$','')\n",
    "        x = x.replace(',','')\n",
    "        return float(x)\n",
    "    return (x)\n",
    "def transform_percent(x):\n",
    "    if (type(x) == str):\n",
    "        x = x.replace('%','')\n",
    "        return float(x)/100\n",
    "    return (x)\n",
    "def transform_boolean(x):\n",
    "    if (type(x) == str):\n",
    "        if (x == \"f\"): \n",
    "            return float(0)\n",
    "        elif (x == \"t\"):\n",
    "            return float(1)\n",
    "\n",
    "fill_mean = lambda col: col.fillna(col.mean())"
   ]
  },
  {
   "cell_type": "code",
   "execution_count": 5,
   "id": "4e354ac2-ef35-4682-b43f-12697ab259cb",
   "metadata": {},
   "outputs": [
    {
     "name": "stdout",
     "output_type": "stream",
     "text": [
      "dict_keys(['Cat(s)', 'Hair Dryer', 'Smoke Detector', 'Wireless Internet', 'Other pet(s)', 'Dog(s)', 'Smoking Allowed', 'Heating', '24-Hour Check-in', 'Family/Kid Friendly', 'Safety Card', 'Internet', 'Gym', 'Breakfast', 'Indoor Fireplace', 'Fire Extinguisher', 'Wheelchair Accessible', 'Iron', 'Pool', 'First Aid Kit', 'Laptop Friendly Workspace', 'Doorman', 'Carbon Monoxide Detector', 'Shampoo', 'Dryer', 'Buzzer/Wireless Intercom', 'Free Parking on Premises', 'Hangers', 'Suitable for Events', 'Pets Allowed', 'Washer / Dryer', 'Hot Tub', 'Pets live on this property', 'Kitchen', 'Elevator in Building', 'TV', 'Lock on Bedroom Door', 'Essentials', 'Air Conditioning', 'Washer', 'Cable TV'])\n"
     ]
    }
   ],
   "source": [
    "# correlation between features\n",
    "#prepare the data\n",
    "\n",
    "df_listings['price']=df_listings['price'].map(lambda x: remove_dollar_sign(x))\n",
    "df_listings['weekly_price']=df_listings['weekly_price'].map(lambda x: remove_dollar_sign(x))\n",
    "df_listings['monthly_price']=df_listings['monthly_price'].map(lambda x: remove_dollar_sign(x))\n",
    "df_listings['security_deposit']=df_listings['security_deposit'].map(lambda x: remove_dollar_sign(x))\n",
    "\n",
    "df_listings['host_response_rate']=df_listings['host_response_rate'].map(lambda x: transform_percent(x))\n",
    "df_listings['host_acceptance_rate']=df_listings['host_acceptance_rate'].map(lambda x: transform_percent(x))\n",
    "df_listings['host_is_superhost'] = df_listings['host_is_superhost'].map(lambda x: transform_boolean(x))\n",
    "\n",
    "df_listings_numeric_only = df_listings.select_dtypes(include=[np.number])\n",
    "df_listings_numeric_only= df_listings_numeric_only.drop(['license','latitude','longitude','id','scrape_id','host_id'],axis=1)\n",
    "df_listings_numeric_only.to_csv(Path('out.csv'))\n",
    "df_listings_numeric_only = df_listings_numeric_only.apply(fill_mean,axis=0)\n",
    "df_listings_numeric_only.to_csv(Path('out2.csv'))\n",
    "\n",
    "corr = df_listings_numeric_only.corr()\n",
    "#A=corr.unstack().sort_values(ascending=False)\n",
    "df_listings_numeric_only.head()\n",
    "#print('The correlation of the  against all:\\n', A.price[1:-1])\n",
    "\n",
    "#How does the number of ammenities influence the price\n",
    "res = df_listings.amenities.apply(lambda s: s.replace('{','').replace('}','').replace('\"',''))\n",
    "amenities_set = set()\n",
    "for elem in res:\n",
    "    amenities_set.update(elem.split(','))\n",
    "amenities_set=[x for x in amenities_set if x]\n",
    "\n",
    "dictionary = {key:list() for key in amenities_set}\n",
    "print(dictionary.keys())\n",
    "for all_amenities in res:\n",
    "    has_amenity = []\n",
    "    for elem in all_amenities.split(','):\n",
    "        if (elem and not dictionary.get(elem)):\n",
    "            dictionary.update({elem:[True]})\n",
    "        else:\n",
    "            if elem: \n",
    "                dictionary.get(elem).append(True)\n",
    "        has_amenity.append(elem)\n",
    "    #print(has_amenity)\n",
    "    for key in dictionary.keys():\n",
    "        if key not in has_amenity:\n",
    "            dictionary.get(key).append(False)\n",
    "    \n",
    "df_amenities = pd.DataFrame(dictionary)\n",
    "result = pd.concat([df_amenities, df_listings_numeric_only], axis=1, join='inner')\n",
    "result.to_csv(Path('out3.csv'))\n",
    "#A=result.corr().unstack().sort_values(ascending=False)\n",
    "#print('The correlation of the  against all:\\n', A.price[0:].to_string())\n",
    "#result.head()\n",
    "#for key,value in dictionary.items():\n",
    "#    print(\"%d %s\" % (len(value),key))\n",
    "    #print(value)\n",
    "#c = a.join(b)\n",
    "#print(b)\n",
    "#df_listings.info()\n",
    "#c.head()"
   ]
  },
  {
   "cell_type": "code",
   "execution_count": 6,
   "id": "bd720f30-1fb1-4a82-9eaf-abd7ff4db9f1",
   "metadata": {},
   "outputs": [
    {
     "name": "stdout",
     "output_type": "stream",
     "text": [
      "Traning Data:\n",
      "r-sqaured score: 0.631\n",
      "mean-sqaured error: 2937.751\n",
      "---\n",
      "Test Data:\n",
      "r-sqaured score: -498.276\n",
      "mean-sqaured error: 4275574.754\n",
      "---\n"
     ]
    }
   ],
   "source": [
    "y = result.price\n",
    "X= result.drop('price',axis=1)\n",
    "\n",
    "X_train, X_test, y_train, y_test = train_test_split(X, y, test_size = .30, random_state=42)\n",
    "X_train.shape\n",
    "\n",
    "lr_model = LinearRegression()\n",
    "lr_model.fit(X_train, y_train) \n",
    "\n",
    "y_test_pred = lr_model.predict(X_test)\n",
    "y_train_pred = lr_model.predict(X_train)\n",
    "\n",
    "# Print model evaluation scores for training and test\n",
    "print('Traning Data:')\n",
    "print('r-sqaured score: %.3f' % r2_score(y_train, y_train_pred))\n",
    "print('mean-sqaured error: %.3f' % mean_squared_error(y_train, y_train_pred))\n",
    "print('---')\n",
    "print('Test Data:')\n",
    "print('r-sqaured score: %.3f' % r2_score(y_test, y_test_pred))\n",
    "print('mean-sqaured error: %.3f' % mean_squared_error(y_test, y_test_pred))\n",
    "print('---')"
   ]
  },
  {
   "cell_type": "code",
   "execution_count": null,
   "id": "3231fb21-19d5-4919-afd1-7b2c10134e09",
   "metadata": {},
   "outputs": [],
   "source": []
  },
  {
   "cell_type": "code",
   "execution_count": null,
   "id": "936098ff-65bc-40bb-9b7c-60a5cac48b20",
   "metadata": {},
   "outputs": [],
   "source": []
  },
  {
   "cell_type": "code",
   "execution_count": null,
   "id": "fb10bc06-d432-49e1-8dea-af2acfeae0fe",
   "metadata": {},
   "outputs": [],
   "source": []
  },
  {
   "cell_type": "code",
   "execution_count": null,
   "id": "29fdc100-5e08-4de0-a5c9-a438d4fae484",
   "metadata": {},
   "outputs": [],
   "source": []
  }
 ],
 "metadata": {
  "kernelspec": {
   "display_name": "Python 3 (ipykernel)",
   "language": "python",
   "name": "python3"
  },
  "language_info": {
   "codemirror_mode": {
    "name": "ipython",
    "version": 3
   },
   "file_extension": ".py",
   "mimetype": "text/x-python",
   "name": "python",
   "nbconvert_exporter": "python",
   "pygments_lexer": "ipython3",
   "version": "3.9.12"
  }
 },
 "nbformat": 4,
 "nbformat_minor": 5
}
